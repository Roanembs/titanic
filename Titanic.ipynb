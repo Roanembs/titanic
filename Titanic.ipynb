{
  "nbformat": 4,
  "nbformat_minor": 0,
  "metadata": {
    "colab": {
      "name": "Titanic.ipynb",
      "provenance": [],
      "collapsed_sections": [
        "V7yLDWLEOCz5",
        "2KU_gBkwKlZT",
        "_AnxPe2mVo68",
        "IFvyXiAHK7yQ",
        "LOwYhVymUdL-",
        "yEcKMJv_Lbx1",
        "HtRD3UcoMOvz",
        "5KR6X3D_MYsW",
        "S5TkyORLRmxu",
        "ii85K6h9hX0P",
        "Pd5AW6Bah1MH"
      ]
    },
    "kernelspec": {
      "name": "python3",
      "display_name": "Python 3"
    },
    "language_info": {
      "name": "python"
    }
  },
  "cells": [
    {
      "cell_type": "markdown",
      "metadata": {
        "id": "P0vtl8WzEYd8"
      },
      "source": [
        "# Análise de Dados Exploratória do Titanic"
      ]
    },
    {
      "cell_type": "markdown",
      "metadata": {
        "id": "V7yLDWLEOCz5"
      },
      "source": [
        "# 1. Introdução\n",
        "O RMS Titanic foi um navio de passageiros britânico operado pela empresa White Star Line que afundou no Oceano Atlântico Norte nas primeiras horas da manhã de 15 de abril de 1912, depois de atingir um iceberg durante sua viagem inaugural de Southampton a Nova York. Dos 2.224 passageiros e tripulantes a bordo, mais de 1.500 morreram, tornando o naufrágio um dos desastres marítimos comerciais mais mortais da história moderna em tempos de paz.\n",
        "\n",
        "Neste estudo iremos explorar um conjunto de dados baseado na lista de passageiros do Titanic editada por Michael A. Findlay, publicada originalmente em Eaton & Haas (1994) Titanic: Triumph and Tragedy, Patrick Stephens Ltd, e expandida com a ajuda da comunidade da Internet. Os arquivos HTML originais foram obtidos por Philip Hind (1999) e o dataset descreve o status de sobrevivência de passageiros individuais no Titanic. Ele não contém informações para a tripulação, mas contém idades atuais e estimadas para quase 80% dos passageiros."
      ]
    },
    {
      "cell_type": "markdown",
      "metadata": {
        "id": "pFiCGT2eOQFx"
      },
      "source": [
        "## 1.1 Objetivos\n",
        "O objetivo deste estudo é realizar uma Análise Exploratória dos Dados (Exploratory Data Analysis - EDA) do conjunto de dados titanic3, adaptado pelo autor e disponível em [data/titanic3.csv](https://github.com/profdiegoaugusto/analise-dados/blob/master/Pandas/titanic-eda/data/titanic3.csv) ; a fim de caracterizar o perfil dos sobreviventes do fatídico naufrágio. Especificiamente serão respondidas as seguintes questões de pesquisa:\n",
        "\n",
        "1.   Qual é o número de Sobreviventes?\n",
        "2.   Homens ou mulheres tiveram mais chances de sobreviver?\n",
        "3.   Qual classe social teve mais sobreviventes?\n",
        "4.   Qual faixa etária teve mais chances de sobreviver?\n"
      ]
    },
    {
      "cell_type": "markdown",
      "metadata": {
        "id": "Y2nxoB78PDzg"
      },
      "source": [
        "# 2. Metodologia\n",
        "Nesta seção será apresentado todo o processo de preparação, organização e limpeza de dados feito no dataset que possui os seguintes dados:"
      ]
    },
    {
      "cell_type": "markdown",
      "metadata": {
        "id": "2KU_gBkwKlZT"
      },
      "source": [
        "## 2.1. Configuração do Ambiente"
      ]
    },
    {
      "cell_type": "code",
      "metadata": {
        "id": "nDHAme-cEddv"
      },
      "source": [
        "import pandas as pd\n",
        "import matplotlib.pyplot as plt\n",
        "from IPython.display import Image # Serve para colocar imagem (apagar) /n utilizado/"
      ],
      "execution_count": 1,
      "outputs": []
    },
    {
      "cell_type": "markdown",
      "metadata": {
        "id": "_AnxPe2mVo68"
      },
      "source": [
        "## 2.2. Leitura dos Dados"
      ]
    },
    {
      "cell_type": "code",
      "metadata": {
        "id": "boafyUmBVQZX"
      },
      "source": [
        "url = 'https://github.com/profdiegoaugusto/analise-dados/blob/master/Pandas/titanic-eda/data/titanic3.csv'\n",
        "dados_brutos = pd.read_html(url)"
      ],
      "execution_count": null,
      "outputs": []
    },
    {
      "cell_type": "code",
      "metadata": {
        "colab": {
          "base_uri": "https://localhost:8080/"
        },
        "id": "SgiPbXZqWILH",
        "outputId": "519f5bc4-44f1-46ba-c4cd-69668d6ce630"
      },
      "source": [
        "#Passando para dataframe e excluindo coluna Unnamed\n",
        "dados_brutos = pd.DataFrame = dados_brutos[0]\n",
        "dados_brutos.pop(\"Unnamed: 0\")"
      ],
      "execution_count": null,
      "outputs": [
        {
          "output_type": "execute_result",
          "data": {
            "text/plain": [
              "0      NaN\n",
              "1      NaN\n",
              "2      NaN\n",
              "3      NaN\n",
              "4      NaN\n",
              "        ..\n",
              "1304   NaN\n",
              "1305   NaN\n",
              "1306   NaN\n",
              "1307   NaN\n",
              "1308   NaN\n",
              "Name: Unnamed: 0, Length: 1309, dtype: float64"
            ]
          },
          "metadata": {},
          "execution_count": 62
        }
      ]
    },
    {
      "cell_type": "markdown",
      "metadata": {
        "id": "j1ltnPl_KpQ2"
      },
      "source": [
        "## 2.3. Organização e Limpeza dos Dados"
      ]
    },
    {
      "cell_type": "markdown",
      "metadata": {
        "id": "IFvyXiAHK7yQ"
      },
      "source": [
        "### 2.3.1. Visão Geral do Conjunto de Dados"
      ]
    },
    {
      "cell_type": "code",
      "metadata": {
        "colab": {
          "base_uri": "https://localhost:8080/"
        },
        "id": "L0gL1KlTFAK1",
        "outputId": "2dba5f89-8999-4d97-c4f1-ea4460ce9197"
      },
      "source": [
        "dados_brutos.describe().transpose()"
      ],
      "execution_count": null,
      "outputs": [
        {
          "output_type": "execute_result",
          "data": {
            "text/html": [
              "<div>\n",
              "<style scoped>\n",
              "    .dataframe tbody tr th:only-of-type {\n",
              "        vertical-align: middle;\n",
              "    }\n",
              "\n",
              "    .dataframe tbody tr th {\n",
              "        vertical-align: top;\n",
              "    }\n",
              "\n",
              "    .dataframe thead th {\n",
              "        text-align: right;\n",
              "    }\n",
              "</style>\n",
              "<table border=\"1\" class=\"dataframe\">\n",
              "  <thead>\n",
              "    <tr style=\"text-align: right;\">\n",
              "      <th></th>\n",
              "      <th>count</th>\n",
              "      <th>mean</th>\n",
              "      <th>std</th>\n",
              "      <th>min</th>\n",
              "      <th>25%</th>\n",
              "      <th>50%</th>\n",
              "      <th>75%</th>\n",
              "      <th>max</th>\n",
              "    </tr>\n",
              "  </thead>\n",
              "  <tbody>\n",
              "    <tr>\n",
              "      <th>id_passageiro</th>\n",
              "      <td>1309.0</td>\n",
              "      <td>655.000000</td>\n",
              "      <td>378.020061</td>\n",
              "      <td>1.0</td>\n",
              "      <td>328.0000</td>\n",
              "      <td>655.0000</td>\n",
              "      <td>982.000</td>\n",
              "      <td>1309.0000</td>\n",
              "    </tr>\n",
              "    <tr>\n",
              "      <th>classe</th>\n",
              "      <td>1309.0</td>\n",
              "      <td>2.294882</td>\n",
              "      <td>0.837836</td>\n",
              "      <td>1.0</td>\n",
              "      <td>2.0000</td>\n",
              "      <td>3.0000</td>\n",
              "      <td>3.000</td>\n",
              "      <td>3.0000</td>\n",
              "    </tr>\n",
              "    <tr>\n",
              "      <th>sobreviveu</th>\n",
              "      <td>1309.0</td>\n",
              "      <td>0.381971</td>\n",
              "      <td>0.486055</td>\n",
              "      <td>0.0</td>\n",
              "      <td>0.0000</td>\n",
              "      <td>0.0000</td>\n",
              "      <td>1.000</td>\n",
              "      <td>1.0000</td>\n",
              "    </tr>\n",
              "    <tr>\n",
              "      <th>idade</th>\n",
              "      <td>1046.0</td>\n",
              "      <td>29.897706</td>\n",
              "      <td>14.414973</td>\n",
              "      <td>0.0</td>\n",
              "      <td>21.0000</td>\n",
              "      <td>28.0000</td>\n",
              "      <td>39.000</td>\n",
              "      <td>80.0000</td>\n",
              "    </tr>\n",
              "    <tr>\n",
              "      <th>irmaos_conjuges</th>\n",
              "      <td>1309.0</td>\n",
              "      <td>0.498854</td>\n",
              "      <td>1.041658</td>\n",
              "      <td>0.0</td>\n",
              "      <td>0.0000</td>\n",
              "      <td>0.0000</td>\n",
              "      <td>1.000</td>\n",
              "      <td>8.0000</td>\n",
              "    </tr>\n",
              "    <tr>\n",
              "      <th>pais_filhos</th>\n",
              "      <td>1309.0</td>\n",
              "      <td>0.385027</td>\n",
              "      <td>0.865560</td>\n",
              "      <td>0.0</td>\n",
              "      <td>0.0000</td>\n",
              "      <td>0.0000</td>\n",
              "      <td>0.000</td>\n",
              "      <td>9.0000</td>\n",
              "    </tr>\n",
              "    <tr>\n",
              "      <th>tarifa</th>\n",
              "      <td>1308.0</td>\n",
              "      <td>33.295479</td>\n",
              "      <td>51.758668</td>\n",
              "      <td>0.0</td>\n",
              "      <td>7.8958</td>\n",
              "      <td>14.4542</td>\n",
              "      <td>31.275</td>\n",
              "      <td>512.3292</td>\n",
              "    </tr>\n",
              "    <tr>\n",
              "      <th>corpo</th>\n",
              "      <td>121.0</td>\n",
              "      <td>160.809917</td>\n",
              "      <td>97.696922</td>\n",
              "      <td>1.0</td>\n",
              "      <td>72.0000</td>\n",
              "      <td>155.0000</td>\n",
              "      <td>256.000</td>\n",
              "      <td>328.0000</td>\n",
              "    </tr>\n",
              "  </tbody>\n",
              "</table>\n",
              "</div>"
            ],
            "text/plain": [
              "                  count        mean         std  ...       50%      75%        max\n",
              "id_passageiro    1309.0  655.000000  378.020061  ...  655.0000  982.000  1309.0000\n",
              "classe           1309.0    2.294882    0.837836  ...    3.0000    3.000     3.0000\n",
              "sobreviveu       1309.0    0.381971    0.486055  ...    0.0000    1.000     1.0000\n",
              "idade            1046.0   29.897706   14.414973  ...   28.0000   39.000    80.0000\n",
              "irmaos_conjuges  1309.0    0.498854    1.041658  ...    0.0000    1.000     8.0000\n",
              "pais_filhos      1309.0    0.385027    0.865560  ...    0.0000    0.000     9.0000\n",
              "tarifa           1308.0   33.295479   51.758668  ...   14.4542   31.275   512.3292\n",
              "corpo             121.0  160.809917   97.696922  ...  155.0000  256.000   328.0000\n",
              "\n",
              "[8 rows x 8 columns]"
            ]
          },
          "metadata": {},
          "execution_count": 63
        }
      ]
    },
    {
      "cell_type": "code",
      "metadata": {
        "colab": {
          "base_uri": "https://localhost:8080/"
        },
        "id": "JdHIuQLyQPLx",
        "outputId": "745c061b-d349-46f1-8fdb-b6f8645522f1"
      },
      "source": [
        "dados_brutos.dtypes"
      ],
      "execution_count": null,
      "outputs": [
        {
          "output_type": "execute_result",
          "data": {
            "text/plain": [
              "id_passageiro        int64\n",
              "classe               int64\n",
              "sobreviveu           int64\n",
              "nome                object\n",
              "sexo                object\n",
              "idade              float64\n",
              "irmaos_conjuges      int64\n",
              "pais_filhos          int64\n",
              "bilhete             object\n",
              "tarifa             float64\n",
              "cabine              object\n",
              "embarque            object\n",
              "bote                object\n",
              "corpo              float64\n",
              "destino             object\n",
              "dtype: object"
            ]
          },
          "metadata": {},
          "execution_count": 64
        }
      ]
    },
    {
      "cell_type": "code",
      "metadata": {
        "colab": {
          "base_uri": "https://localhost:8080/"
        },
        "id": "hye2wV8mQVvP",
        "outputId": "32c1043a-0084-4c51-d72a-5a10cff27694"
      },
      "source": [
        "dados_brutos.isnull().sum()"
      ],
      "execution_count": null,
      "outputs": [
        {
          "output_type": "execute_result",
          "data": {
            "text/plain": [
              "id_passageiro         0\n",
              "classe                0\n",
              "sobreviveu            0\n",
              "nome                  0\n",
              "sexo                  0\n",
              "idade               263\n",
              "irmaos_conjuges       0\n",
              "pais_filhos           0\n",
              "bilhete               0\n",
              "tarifa                1\n",
              "cabine             1014\n",
              "embarque              2\n",
              "bote                823\n",
              "corpo              1188\n",
              "destino             564\n",
              "dtype: int64"
            ]
          },
          "metadata": {},
          "execution_count": 65
        }
      ]
    },
    {
      "cell_type": "markdown",
      "metadata": {
        "id": "LOwYhVymUdL-"
      },
      "source": [
        "### 2.3.2 Remoção de Colunas"
      ]
    },
    {
      "cell_type": "code",
      "metadata": {
        "id": "FN_4dYStLFqg"
      },
      "source": [
        "#Excluindo colunas NOME, BILHETE, CABINE, DESTINO\n",
        "df_titanic = dados_brutos.drop([\"nome\",\"bilhete\",\"cabine\",\"destino\"], axis=1)"
      ],
      "execution_count": null,
      "outputs": []
    },
    {
      "cell_type": "markdown",
      "metadata": {
        "id": "yEcKMJv_Lbx1"
      },
      "source": [
        "### 2.3.3. Dados Ausentes"
      ]
    },
    {
      "cell_type": "code",
      "metadata": {
        "colab": {
          "base_uri": "https://localhost:8080/"
        },
        "id": "mDrDbFQsFZh-",
        "outputId": "53c17998-4af1-4353-88e9-4dd5cc5d8b28"
      },
      "source": [
        "print('dados nulos: {}'.format(df_titanic.isnull().sum().sum()))\n",
        "print(df_titanic.isnull().sum())"
      ],
      "execution_count": null,
      "outputs": [
        {
          "output_type": "stream",
          "name": "stdout",
          "text": [
            "dados nulos: 2277\n",
            "id_passageiro         0\n",
            "classe                0\n",
            "sobreviveu            0\n",
            "sexo                  0\n",
            "idade               263\n",
            "irmaos_conjuges       0\n",
            "pais_filhos           0\n",
            "tarifa                1\n",
            "embarque              2\n",
            "bote                823\n",
            "corpo              1188\n",
            "dtype: int64\n"
          ]
        }
      ]
    },
    {
      "cell_type": "markdown",
      "metadata": {
        "id": "HtRD3UcoMOvz"
      },
      "source": [
        "#### 2.3.3.1 Idades Ausentes"
      ]
    },
    {
      "cell_type": "code",
      "metadata": {
        "colab": {
          "base_uri": "https://localhost:8080/"
        },
        "id": "XfWHDbhIFefz",
        "outputId": "9285cd30-0f5b-4759-9870-38af98b731bd"
      },
      "source": [
        "print('Idade NaN(Entrada): {}'.format(df_titanic['idade'].isnull().sum()))\n",
        "df_titanic[['idade']]  = df_titanic['idade'].fillna(df_titanic['idade'].mean())\n",
        "print('Idade NaN(Saida): {}'.format(df_titanic['idade'].isnull().sum()))\n",
        "df_titanic['idade'] = df_titanic['idade'].astype(int)"
      ],
      "execution_count": null,
      "outputs": [
        {
          "output_type": "stream",
          "name": "stdout",
          "text": [
            "Idade NaN(Entrada): 263\n",
            "Idade NaN(Saida): 0\n"
          ]
        }
      ]
    },
    {
      "cell_type": "code",
      "metadata": {
        "colab": {
          "base_uri": "https://localhost:8080/"
        },
        "id": "3O5HkvMgeal6",
        "outputId": "d5e23b56-be18-4462-bc29-2fc98efabba9"
      },
      "source": [
        "df_titanic['idade'].unique()"
      ],
      "execution_count": null,
      "outputs": [
        {
          "output_type": "execute_result",
          "data": {
            "text/plain": [
              "array([29,  1,  2, 30, 25, 48, 63, 39, 53, 71, 47, 18, 24, 26, 80, 50, 32,\n",
              "       36, 37, 42, 19, 35, 28, 45, 40, 58, 22, 41, 44, 59, 60, 33, 17, 11,\n",
              "       14, 49, 76, 46, 27, 64, 55, 70, 38, 51, 31,  4, 54, 23, 43, 52, 16,\n",
              "       21, 15, 65, 56, 13, 61, 34,  6, 57, 62, 67, 12, 20,  8,  7,  3,  5,\n",
              "       66,  9,  0, 10, 74])"
            ]
          },
          "metadata": {},
          "execution_count": 69
        }
      ]
    },
    {
      "cell_type": "markdown",
      "metadata": {
        "id": "5KR6X3D_MYsW"
      },
      "source": [
        "#### 2.3.3.2 Tarifas Ausentes"
      ]
    },
    {
      "cell_type": "code",
      "metadata": {
        "colab": {
          "base_uri": "https://localhost:8080/"
        },
        "id": "hNQjagkeF2AO",
        "outputId": "31adc864-b557-4f44-fab1-14900d42a1b1"
      },
      "source": [
        "print('Falta Tarifa')\n",
        "df_titanic[df_titanic['tarifa'].isnull()]"
      ],
      "execution_count": null,
      "outputs": [
        {
          "output_type": "stream",
          "name": "stdout",
          "text": [
            "Falta Tarifa\n"
          ]
        },
        {
          "output_type": "execute_result",
          "data": {
            "text/html": [
              "<div>\n",
              "<style scoped>\n",
              "    .dataframe tbody tr th:only-of-type {\n",
              "        vertical-align: middle;\n",
              "    }\n",
              "\n",
              "    .dataframe tbody tr th {\n",
              "        vertical-align: top;\n",
              "    }\n",
              "\n",
              "    .dataframe thead th {\n",
              "        text-align: right;\n",
              "    }\n",
              "</style>\n",
              "<table border=\"1\" class=\"dataframe\">\n",
              "  <thead>\n",
              "    <tr style=\"text-align: right;\">\n",
              "      <th></th>\n",
              "      <th>id_passageiro</th>\n",
              "      <th>classe</th>\n",
              "      <th>sobreviveu</th>\n",
              "      <th>sexo</th>\n",
              "      <th>idade</th>\n",
              "      <th>irmaos_conjuges</th>\n",
              "      <th>pais_filhos</th>\n",
              "      <th>tarifa</th>\n",
              "      <th>embarque</th>\n",
              "      <th>bote</th>\n",
              "      <th>corpo</th>\n",
              "    </tr>\n",
              "  </thead>\n",
              "  <tbody>\n",
              "    <tr>\n",
              "      <th>1225</th>\n",
              "      <td>1226</td>\n",
              "      <td>3</td>\n",
              "      <td>0</td>\n",
              "      <td>male</td>\n",
              "      <td>61</td>\n",
              "      <td>0</td>\n",
              "      <td>0</td>\n",
              "      <td>NaN</td>\n",
              "      <td>S</td>\n",
              "      <td>NaN</td>\n",
              "      <td>261.0</td>\n",
              "    </tr>\n",
              "  </tbody>\n",
              "</table>\n",
              "</div>"
            ],
            "text/plain": [
              "      id_passageiro  classe  sobreviveu  sexo  ...  tarifa  embarque  bote  corpo\n",
              "1225           1226       3           0  male  ...     NaN         S   NaN  261.0\n",
              "\n",
              "[1 rows x 11 columns]"
            ]
          },
          "metadata": {},
          "execution_count": 70
        }
      ]
    },
    {
      "cell_type": "code",
      "metadata": {
        "colab": {
          "base_uri": "https://localhost:8080/"
        },
        "id": "BLvhKPHAGdTI",
        "outputId": "fa609f24-4463-4f6b-8bc3-6b379b02deeb"
      },
      "source": [
        "tarifas = df_titanic[(df_titanic['classe'] == 3)  & (df_titanic['sexo'] == 'male') & (df_titanic['idade'] >= 50) & (df_titanic['irmaos_conjuges'] == 0)  & (df_titanic['embarque'] == 'S')]\n",
        "print('Passageiros com dados (Classe, Sexo, Idade, Embarque) semelhantes ao faltante: {}'.format(len(tarifas)))"
      ],
      "execution_count": null,
      "outputs": [
        {
          "output_type": "stream",
          "name": "stdout",
          "text": [
            "Passageiros com dados (Classe, Sexo, Idade, Embarque) semelhantes ao faltante: 9\n"
          ]
        }
      ]
    },
    {
      "cell_type": "code",
      "metadata": {
        "id": "B1L0nNtPHKUi"
      },
      "source": [
        "df_titanic['tarifa'] = df_titanic['tarifa'].fillna(tarifas['tarifa'].mean())"
      ],
      "execution_count": null,
      "outputs": []
    },
    {
      "cell_type": "code",
      "metadata": {
        "colab": {
          "base_uri": "https://localhost:8080/"
        },
        "id": "2UVEh-i3O1ww",
        "outputId": "b33df405-5061-4f8c-8183-39b911d170bf"
      },
      "source": [
        "df_titanic.loc[df_titanic['id_passageiro'] == 1225]"
      ],
      "execution_count": null,
      "outputs": [
        {
          "output_type": "execute_result",
          "data": {
            "text/html": [
              "<div>\n",
              "<style scoped>\n",
              "    .dataframe tbody tr th:only-of-type {\n",
              "        vertical-align: middle;\n",
              "    }\n",
              "\n",
              "    .dataframe tbody tr th {\n",
              "        vertical-align: top;\n",
              "    }\n",
              "\n",
              "    .dataframe thead th {\n",
              "        text-align: right;\n",
              "    }\n",
              "</style>\n",
              "<table border=\"1\" class=\"dataframe\">\n",
              "  <thead>\n",
              "    <tr style=\"text-align: right;\">\n",
              "      <th></th>\n",
              "      <th>id_passageiro</th>\n",
              "      <th>classe</th>\n",
              "      <th>sobreviveu</th>\n",
              "      <th>sexo</th>\n",
              "      <th>idade</th>\n",
              "      <th>irmaos_conjuges</th>\n",
              "      <th>pais_filhos</th>\n",
              "      <th>tarifa</th>\n",
              "      <th>embarque</th>\n",
              "      <th>bote</th>\n",
              "      <th>corpo</th>\n",
              "    </tr>\n",
              "  </thead>\n",
              "  <tbody>\n",
              "    <tr>\n",
              "      <th>1224</th>\n",
              "      <td>1225</td>\n",
              "      <td>3</td>\n",
              "      <td>0</td>\n",
              "      <td>male</td>\n",
              "      <td>21</td>\n",
              "      <td>0</td>\n",
              "      <td>0</td>\n",
              "      <td>8.05</td>\n",
              "      <td>S</td>\n",
              "      <td>NaN</td>\n",
              "      <td>NaN</td>\n",
              "    </tr>\n",
              "  </tbody>\n",
              "</table>\n",
              "</div>"
            ],
            "text/plain": [
              "      id_passageiro  classe  sobreviveu  sexo  ...  tarifa  embarque  bote  corpo\n",
              "1224           1225       3           0  male  ...    8.05         S   NaN    NaN\n",
              "\n",
              "[1 rows x 11 columns]"
            ]
          },
          "metadata": {},
          "execution_count": 73
        }
      ]
    },
    {
      "cell_type": "markdown",
      "metadata": {
        "id": "S5TkyORLRmxu"
      },
      "source": [
        "#### 2.3.3.3 Portos de Embarque Ausentes"
      ]
    },
    {
      "cell_type": "code",
      "metadata": {
        "id": "z9JGDetwRoNq"
      },
      "source": [
        "df_titanic = df_titanic[df_titanic['embarque'].notna()]"
      ],
      "execution_count": null,
      "outputs": []
    },
    {
      "cell_type": "markdown",
      "metadata": {
        "id": "ii85K6h9hX0P"
      },
      "source": [
        "#### Dados Ausentes"
      ]
    },
    {
      "cell_type": "code",
      "metadata": {
        "colab": {
          "base_uri": "https://localhost:8080/"
        },
        "id": "jOGAb8EPhcsZ",
        "outputId": "5ad107e2-113c-4cef-aa73-6251f9eb6ed6"
      },
      "source": [
        "print('dados nulos: {}'.format(df_titanic.isnull().sum().sum()))\n",
        "print(df_titanic.isnull().sum())"
      ],
      "execution_count": null,
      "outputs": [
        {
          "output_type": "stream",
          "name": "stdout",
          "text": [
            "dados nulos: 2009\n",
            "id_passageiro         0\n",
            "classe                0\n",
            "sobreviveu            0\n",
            "sexo                  0\n",
            "idade                 0\n",
            "irmaos_conjuges       0\n",
            "pais_filhos           0\n",
            "tarifa                0\n",
            "embarque              0\n",
            "bote                823\n",
            "corpo              1186\n",
            "dtype: int64\n"
          ]
        }
      ]
    },
    {
      "cell_type": "markdown",
      "metadata": {
        "id": "Pd5AW6Bah1MH"
      },
      "source": [
        "## 2.4 Mapeamento de Dados"
      ]
    },
    {
      "cell_type": "code",
      "metadata": {
        "id": "FPEBthk4h7xu",
        "colab": {
          "base_uri": "https://localhost:8080/"
        },
        "outputId": "608cec19-696a-4a31-d0d7-0cb080e3a3bb"
      },
      "source": [
        "def modificado(coluna,origem):\n",
        "    modificado = []\n",
        "    if coluna == 'Classe':\n",
        "        for coluna in origem:\n",
        "            if coluna == 1:\n",
        "                modificado.append('Alta')\n",
        "            elif coluna == 2:\n",
        "                modificado.append('Média')\n",
        "            else:\n",
        "                modificado.append('Baixa')\n",
        "        return modificado\n",
        "    elif coluna == 'Sexo':\n",
        "        for coluna in origem:\n",
        "            if coluna == 'male':\n",
        "                modificado.append('M')\n",
        "            else :\n",
        "                modificado.append('F')\n",
        "        return modificado\n",
        "    else:\n",
        "        for coluna in origem:\n",
        "            if coluna == 'C':\n",
        "                modificado.append('Cherbourg')\n",
        "            elif coluna == 'Q':\n",
        "                modificado.append('Queenstown')\n",
        "            else:\n",
        "                modificado.append('Southampton')\n",
        "        return modificado\n",
        "\n",
        "df_titanic['classe'] = modificado('Classe',df_titanic['classe'])\n",
        "df_titanic['sexo'] = modificado('Sexo',df_titanic['sexo'])\n",
        "df_titanic['embarque'] = modificado('Embarque',df_titanic['embarque'])"
      ],
      "execution_count": null,
      "outputs": [
        {
          "output_type": "stream",
          "name": "stderr",
          "text": [
            "/usr/local/lib/python3.7/dist-packages/ipykernel_launcher.py:29: SettingWithCopyWarning: \n",
            "A value is trying to be set on a copy of a slice from a DataFrame.\n",
            "Try using .loc[row_indexer,col_indexer] = value instead\n",
            "\n",
            "See the caveats in the documentation: https://pandas.pydata.org/pandas-docs/stable/user_guide/indexing.html#returning-a-view-versus-a-copy\n",
            "/usr/local/lib/python3.7/dist-packages/ipykernel_launcher.py:30: SettingWithCopyWarning: \n",
            "A value is trying to be set on a copy of a slice from a DataFrame.\n",
            "Try using .loc[row_indexer,col_indexer] = value instead\n",
            "\n",
            "See the caveats in the documentation: https://pandas.pydata.org/pandas-docs/stable/user_guide/indexing.html#returning-a-view-versus-a-copy\n",
            "/usr/local/lib/python3.7/dist-packages/ipykernel_launcher.py:31: SettingWithCopyWarning: \n",
            "A value is trying to be set on a copy of a slice from a DataFrame.\n",
            "Try using .loc[row_indexer,col_indexer] = value instead\n",
            "\n",
            "See the caveats in the documentation: https://pandas.pydata.org/pandas-docs/stable/user_guide/indexing.html#returning-a-view-versus-a-copy\n"
          ]
        }
      ]
    },
    {
      "cell_type": "code",
      "metadata": {
        "colab": {
          "base_uri": "https://localhost:8080/"
        },
        "id": "xt5iGAlXnR3f",
        "outputId": "12d344ba-a4a1-4239-e7ce-6fe8610bd702"
      },
      "source": [
        "df_titanic"
      ],
      "execution_count": null,
      "outputs": [
        {
          "output_type": "execute_result",
          "data": {
            "text/html": [
              "<div>\n",
              "<style scoped>\n",
              "    .dataframe tbody tr th:only-of-type {\n",
              "        vertical-align: middle;\n",
              "    }\n",
              "\n",
              "    .dataframe tbody tr th {\n",
              "        vertical-align: top;\n",
              "    }\n",
              "\n",
              "    .dataframe thead th {\n",
              "        text-align: right;\n",
              "    }\n",
              "</style>\n",
              "<table border=\"1\" class=\"dataframe\">\n",
              "  <thead>\n",
              "    <tr style=\"text-align: right;\">\n",
              "      <th></th>\n",
              "      <th>id_passageiro</th>\n",
              "      <th>classe</th>\n",
              "      <th>sobreviveu</th>\n",
              "      <th>sexo</th>\n",
              "      <th>idade</th>\n",
              "      <th>irmaos_conjuges</th>\n",
              "      <th>pais_filhos</th>\n",
              "      <th>tarifa</th>\n",
              "      <th>embarque</th>\n",
              "      <th>bote</th>\n",
              "      <th>corpo</th>\n",
              "    </tr>\n",
              "  </thead>\n",
              "  <tbody>\n",
              "    <tr>\n",
              "      <th>0</th>\n",
              "      <td>1</td>\n",
              "      <td>Alta</td>\n",
              "      <td>1</td>\n",
              "      <td>F</td>\n",
              "      <td>29</td>\n",
              "      <td>0</td>\n",
              "      <td>0</td>\n",
              "      <td>211.3375</td>\n",
              "      <td>Southampton</td>\n",
              "      <td>2</td>\n",
              "      <td>NaN</td>\n",
              "    </tr>\n",
              "    <tr>\n",
              "      <th>1</th>\n",
              "      <td>2</td>\n",
              "      <td>Alta</td>\n",
              "      <td>1</td>\n",
              "      <td>M</td>\n",
              "      <td>1</td>\n",
              "      <td>1</td>\n",
              "      <td>2</td>\n",
              "      <td>151.5500</td>\n",
              "      <td>Southampton</td>\n",
              "      <td>11</td>\n",
              "      <td>NaN</td>\n",
              "    </tr>\n",
              "    <tr>\n",
              "      <th>2</th>\n",
              "      <td>3</td>\n",
              "      <td>Alta</td>\n",
              "      <td>0</td>\n",
              "      <td>F</td>\n",
              "      <td>2</td>\n",
              "      <td>1</td>\n",
              "      <td>2</td>\n",
              "      <td>151.5500</td>\n",
              "      <td>Southampton</td>\n",
              "      <td>NaN</td>\n",
              "      <td>NaN</td>\n",
              "    </tr>\n",
              "    <tr>\n",
              "      <th>3</th>\n",
              "      <td>4</td>\n",
              "      <td>Alta</td>\n",
              "      <td>0</td>\n",
              "      <td>M</td>\n",
              "      <td>30</td>\n",
              "      <td>1</td>\n",
              "      <td>2</td>\n",
              "      <td>151.5500</td>\n",
              "      <td>Southampton</td>\n",
              "      <td>NaN</td>\n",
              "      <td>135.0</td>\n",
              "    </tr>\n",
              "    <tr>\n",
              "      <th>4</th>\n",
              "      <td>5</td>\n",
              "      <td>Alta</td>\n",
              "      <td>0</td>\n",
              "      <td>F</td>\n",
              "      <td>25</td>\n",
              "      <td>1</td>\n",
              "      <td>2</td>\n",
              "      <td>151.5500</td>\n",
              "      <td>Southampton</td>\n",
              "      <td>NaN</td>\n",
              "      <td>NaN</td>\n",
              "    </tr>\n",
              "    <tr>\n",
              "      <th>...</th>\n",
              "      <td>...</td>\n",
              "      <td>...</td>\n",
              "      <td>...</td>\n",
              "      <td>...</td>\n",
              "      <td>...</td>\n",
              "      <td>...</td>\n",
              "      <td>...</td>\n",
              "      <td>...</td>\n",
              "      <td>...</td>\n",
              "      <td>...</td>\n",
              "      <td>...</td>\n",
              "    </tr>\n",
              "    <tr>\n",
              "      <th>1304</th>\n",
              "      <td>1305</td>\n",
              "      <td>Baixa</td>\n",
              "      <td>0</td>\n",
              "      <td>F</td>\n",
              "      <td>15</td>\n",
              "      <td>1</td>\n",
              "      <td>0</td>\n",
              "      <td>14.4542</td>\n",
              "      <td>Cherbourg</td>\n",
              "      <td>NaN</td>\n",
              "      <td>328.0</td>\n",
              "    </tr>\n",
              "    <tr>\n",
              "      <th>1305</th>\n",
              "      <td>1306</td>\n",
              "      <td>Baixa</td>\n",
              "      <td>0</td>\n",
              "      <td>F</td>\n",
              "      <td>29</td>\n",
              "      <td>1</td>\n",
              "      <td>0</td>\n",
              "      <td>14.4542</td>\n",
              "      <td>Cherbourg</td>\n",
              "      <td>NaN</td>\n",
              "      <td>NaN</td>\n",
              "    </tr>\n",
              "    <tr>\n",
              "      <th>1306</th>\n",
              "      <td>1307</td>\n",
              "      <td>Baixa</td>\n",
              "      <td>0</td>\n",
              "      <td>M</td>\n",
              "      <td>27</td>\n",
              "      <td>0</td>\n",
              "      <td>0</td>\n",
              "      <td>7.2250</td>\n",
              "      <td>Cherbourg</td>\n",
              "      <td>NaN</td>\n",
              "      <td>304.0</td>\n",
              "    </tr>\n",
              "    <tr>\n",
              "      <th>1307</th>\n",
              "      <td>1308</td>\n",
              "      <td>Baixa</td>\n",
              "      <td>0</td>\n",
              "      <td>M</td>\n",
              "      <td>27</td>\n",
              "      <td>0</td>\n",
              "      <td>0</td>\n",
              "      <td>7.2250</td>\n",
              "      <td>Cherbourg</td>\n",
              "      <td>NaN</td>\n",
              "      <td>NaN</td>\n",
              "    </tr>\n",
              "    <tr>\n",
              "      <th>1308</th>\n",
              "      <td>1309</td>\n",
              "      <td>Baixa</td>\n",
              "      <td>0</td>\n",
              "      <td>M</td>\n",
              "      <td>29</td>\n",
              "      <td>0</td>\n",
              "      <td>0</td>\n",
              "      <td>7.8750</td>\n",
              "      <td>Southampton</td>\n",
              "      <td>NaN</td>\n",
              "      <td>NaN</td>\n",
              "    </tr>\n",
              "  </tbody>\n",
              "</table>\n",
              "<p>1307 rows × 11 columns</p>\n",
              "</div>"
            ],
            "text/plain": [
              "      id_passageiro classe  sobreviveu sexo  ...    tarifa     embarque  bote  corpo\n",
              "0                 1   Alta           1    F  ...  211.3375  Southampton     2    NaN\n",
              "1                 2   Alta           1    M  ...  151.5500  Southampton    11    NaN\n",
              "2                 3   Alta           0    F  ...  151.5500  Southampton   NaN    NaN\n",
              "3                 4   Alta           0    M  ...  151.5500  Southampton   NaN  135.0\n",
              "4                 5   Alta           0    F  ...  151.5500  Southampton   NaN    NaN\n",
              "...             ...    ...         ...  ...  ...       ...          ...   ...    ...\n",
              "1304           1305  Baixa           0    F  ...   14.4542    Cherbourg   NaN  328.0\n",
              "1305           1306  Baixa           0    F  ...   14.4542    Cherbourg   NaN    NaN\n",
              "1306           1307  Baixa           0    M  ...    7.2250    Cherbourg   NaN  304.0\n",
              "1307           1308  Baixa           0    M  ...    7.2250    Cherbourg   NaN    NaN\n",
              "1308           1309  Baixa           0    M  ...    7.8750  Southampton   NaN    NaN\n",
              "\n",
              "[1307 rows x 11 columns]"
            ]
          },
          "metadata": {},
          "execution_count": 77
        }
      ]
    },
    {
      "cell_type": "markdown",
      "metadata": {
        "id": "n6y7CW86ooX7"
      },
      "source": [
        "## 2.5. Feature Engineering"
      ]
    },
    {
      "cell_type": "code",
      "metadata": {
        "id": "LXO366VHorEG",
        "colab": {
          "base_uri": "https://localhost:8080/"
        },
        "outputId": "932c878d-8210-47e3-898e-bb67edef0bbc"
      },
      "source": [
        "df_titanic['total_parentes'] = df_titanic['irmaos_conjuges'] + df_titanic['pais_filhos']\n",
        "#df_titanic['faixa_etaria'] = df_titanic['faixa_etaria'] + df_titanic['faixa_etaria']"
      ],
      "execution_count": null,
      "outputs": [
        {
          "output_type": "stream",
          "name": "stderr",
          "text": [
            "/usr/local/lib/python3.7/dist-packages/ipykernel_launcher.py:1: SettingWithCopyWarning: \n",
            "A value is trying to be set on a copy of a slice from a DataFrame.\n",
            "Try using .loc[row_indexer,col_indexer] = value instead\n",
            "\n",
            "See the caveats in the documentation: https://pandas.pydata.org/pandas-docs/stable/user_guide/indexing.html#returning-a-view-versus-a-copy\n",
            "  \"\"\"Entry point for launching an IPython kernel.\n"
          ]
        }
      ]
    },
    {
      "cell_type": "markdown",
      "metadata": {
        "id": "In5bS2nkg0UP"
      },
      "source": [
        "### 2.5.1 Total de Parentes"
      ]
    },
    {
      "cell_type": "code",
      "metadata": {
        "colab": {
          "base_uri": "https://localhost:8080/"
        },
        "id": "ND5dYpuHg_7h",
        "outputId": "44b9a11e-fcfa-4b21-e444-12ef8c25fc6f"
      },
      "source": [
        "df_titanic['total_parentes'].head()"
      ],
      "execution_count": null,
      "outputs": [
        {
          "output_type": "execute_result",
          "data": {
            "text/plain": [
              "0    0\n",
              "1    3\n",
              "2    3\n",
              "3    3\n",
              "4    3\n",
              "Name: total_parentes, dtype: int64"
            ]
          },
          "metadata": {},
          "execution_count": 79
        }
      ]
    },
    {
      "cell_type": "markdown",
      "metadata": {
        "id": "MBNxzjT8g5Ws"
      },
      "source": [
        "### 2.5.2 Faixas Etárias"
      ]
    },
    {
      "cell_type": "code",
      "metadata": {
        "id": "8PdbxS8ig6sy"
      },
      "source": [
        "def faixa(df):\n",
        "    idade = []\n",
        "    for dados in df: \n",
        "        if dados <= 12:\n",
        "            idade.append('Criança')\n",
        "        elif (dados > 12) & (dados < 18):\n",
        "            idade.append('Adolecente')\n",
        "        elif (dados >= 18) & (dados < 60):\n",
        "            idade.append('Adulto')\n",
        "        else:\n",
        "            idade.append('Idoso')\n",
        "    return idade\n",
        "faixa = faixa(df_titanic['idade'])\n",
        "df_titanic['faixa_etaria'] = faixa"
      ],
      "execution_count": null,
      "outputs": []
    },
    {
      "cell_type": "code",
      "metadata": {
        "colab": {
          "base_uri": "https://localhost:8080/",
          "height": 677
        },
        "id": "32ma004GKqqA",
        "outputId": "c5e3c582-c0d7-4467-8255-e3559170a6f6"
      },
      "source": [
        "df_titanic.sample(20)"
      ],
      "execution_count": null,
      "outputs": [
        {
          "output_type": "execute_result",
          "data": {
            "text/html": [
              "<div>\n",
              "<style scoped>\n",
              "    .dataframe tbody tr th:only-of-type {\n",
              "        vertical-align: middle;\n",
              "    }\n",
              "\n",
              "    .dataframe tbody tr th {\n",
              "        vertical-align: top;\n",
              "    }\n",
              "\n",
              "    .dataframe thead th {\n",
              "        text-align: right;\n",
              "    }\n",
              "</style>\n",
              "<table border=\"1\" class=\"dataframe\">\n",
              "  <thead>\n",
              "    <tr style=\"text-align: right;\">\n",
              "      <th></th>\n",
              "      <th>id_passageiro</th>\n",
              "      <th>classe</th>\n",
              "      <th>sobreviveu</th>\n",
              "      <th>sexo</th>\n",
              "      <th>idade</th>\n",
              "      <th>irmaos_conjuges</th>\n",
              "      <th>pais_filhos</th>\n",
              "      <th>tarifa</th>\n",
              "      <th>embarque</th>\n",
              "      <th>bote</th>\n",
              "      <th>corpo</th>\n",
              "      <th>total_parentes</th>\n",
              "      <th>faixa_etaria</th>\n",
              "    </tr>\n",
              "  </thead>\n",
              "  <tbody>\n",
              "    <tr>\n",
              "      <th>1278</th>\n",
              "      <td>1279</td>\n",
              "      <td>Baixa</td>\n",
              "      <td>0</td>\n",
              "      <td>M</td>\n",
              "      <td>20</td>\n",
              "      <td>0</td>\n",
              "      <td>0</td>\n",
              "      <td>7.8542</td>\n",
              "      <td>Southampton</td>\n",
              "      <td>NaN</td>\n",
              "      <td>NaN</td>\n",
              "      <td>0</td>\n",
              "      <td>Adulto</td>\n",
              "    </tr>\n",
              "    <tr>\n",
              "      <th>881</th>\n",
              "      <td>882</td>\n",
              "      <td>Baixa</td>\n",
              "      <td>1</td>\n",
              "      <td>M</td>\n",
              "      <td>21</td>\n",
              "      <td>0</td>\n",
              "      <td>0</td>\n",
              "      <td>7.7958</td>\n",
              "      <td>Southampton</td>\n",
              "      <td>A</td>\n",
              "      <td>NaN</td>\n",
              "      <td>0</td>\n",
              "      <td>Adulto</td>\n",
              "    </tr>\n",
              "    <tr>\n",
              "      <th>788</th>\n",
              "      <td>789</td>\n",
              "      <td>Baixa</td>\n",
              "      <td>0</td>\n",
              "      <td>M</td>\n",
              "      <td>45</td>\n",
              "      <td>0</td>\n",
              "      <td>0</td>\n",
              "      <td>6.9750</td>\n",
              "      <td>Southampton</td>\n",
              "      <td>NaN</td>\n",
              "      <td>NaN</td>\n",
              "      <td>0</td>\n",
              "      <td>Adulto</td>\n",
              "    </tr>\n",
              "    <tr>\n",
              "      <th>745</th>\n",
              "      <td>746</td>\n",
              "      <td>Baixa</td>\n",
              "      <td>1</td>\n",
              "      <td>F</td>\n",
              "      <td>30</td>\n",
              "      <td>0</td>\n",
              "      <td>0</td>\n",
              "      <td>6.9500</td>\n",
              "      <td>Queenstown</td>\n",
              "      <td>15</td>\n",
              "      <td>NaN</td>\n",
              "      <td>0</td>\n",
              "      <td>Adulto</td>\n",
              "    </tr>\n",
              "    <tr>\n",
              "      <th>1162</th>\n",
              "      <td>1163</td>\n",
              "      <td>Baixa</td>\n",
              "      <td>1</td>\n",
              "      <td>M</td>\n",
              "      <td>29</td>\n",
              "      <td>0</td>\n",
              "      <td>0</td>\n",
              "      <td>7.7500</td>\n",
              "      <td>Queenstown</td>\n",
              "      <td>14</td>\n",
              "      <td>NaN</td>\n",
              "      <td>0</td>\n",
              "      <td>Adulto</td>\n",
              "    </tr>\n",
              "    <tr>\n",
              "      <th>486</th>\n",
              "      <td>487</td>\n",
              "      <td>Média</td>\n",
              "      <td>0</td>\n",
              "      <td>M</td>\n",
              "      <td>24</td>\n",
              "      <td>0</td>\n",
              "      <td>0</td>\n",
              "      <td>10.5000</td>\n",
              "      <td>Southampton</td>\n",
              "      <td>NaN</td>\n",
              "      <td>108.0</td>\n",
              "      <td>0</td>\n",
              "      <td>Adulto</td>\n",
              "    </tr>\n",
              "    <tr>\n",
              "      <th>1135</th>\n",
              "      <td>1136</td>\n",
              "      <td>Baixa</td>\n",
              "      <td>0</td>\n",
              "      <td>M</td>\n",
              "      <td>29</td>\n",
              "      <td>0</td>\n",
              "      <td>0</td>\n",
              "      <td>7.8958</td>\n",
              "      <td>Southampton</td>\n",
              "      <td>NaN</td>\n",
              "      <td>NaN</td>\n",
              "      <td>0</td>\n",
              "      <td>Adulto</td>\n",
              "    </tr>\n",
              "    <tr>\n",
              "      <th>1153</th>\n",
              "      <td>1154</td>\n",
              "      <td>Baixa</td>\n",
              "      <td>0</td>\n",
              "      <td>F</td>\n",
              "      <td>47</td>\n",
              "      <td>1</td>\n",
              "      <td>0</td>\n",
              "      <td>14.5000</td>\n",
              "      <td>Southampton</td>\n",
              "      <td>NaN</td>\n",
              "      <td>7.0</td>\n",
              "      <td>1</td>\n",
              "      <td>Adulto</td>\n",
              "    </tr>\n",
              "    <tr>\n",
              "      <th>258</th>\n",
              "      <td>259</td>\n",
              "      <td>Alta</td>\n",
              "      <td>1</td>\n",
              "      <td>F</td>\n",
              "      <td>30</td>\n",
              "      <td>0</td>\n",
              "      <td>0</td>\n",
              "      <td>31.0000</td>\n",
              "      <td>Cherbourg</td>\n",
              "      <td>4</td>\n",
              "      <td>NaN</td>\n",
              "      <td>0</td>\n",
              "      <td>Adulto</td>\n",
              "    </tr>\n",
              "    <tr>\n",
              "      <th>815</th>\n",
              "      <td>816</td>\n",
              "      <td>Baixa</td>\n",
              "      <td>0</td>\n",
              "      <td>M</td>\n",
              "      <td>29</td>\n",
              "      <td>0</td>\n",
              "      <td>0</td>\n",
              "      <td>14.5000</td>\n",
              "      <td>Southampton</td>\n",
              "      <td>NaN</td>\n",
              "      <td>NaN</td>\n",
              "      <td>0</td>\n",
              "      <td>Adulto</td>\n",
              "    </tr>\n",
              "    <tr>\n",
              "      <th>1275</th>\n",
              "      <td>1276</td>\n",
              "      <td>Baixa</td>\n",
              "      <td>0</td>\n",
              "      <td>M</td>\n",
              "      <td>16</td>\n",
              "      <td>2</td>\n",
              "      <td>0</td>\n",
              "      <td>18.0000</td>\n",
              "      <td>Southampton</td>\n",
              "      <td>NaN</td>\n",
              "      <td>NaN</td>\n",
              "      <td>2</td>\n",
              "      <td>Adolecente</td>\n",
              "    </tr>\n",
              "    <tr>\n",
              "      <th>490</th>\n",
              "      <td>491</td>\n",
              "      <td>Média</td>\n",
              "      <td>0</td>\n",
              "      <td>F</td>\n",
              "      <td>57</td>\n",
              "      <td>0</td>\n",
              "      <td>0</td>\n",
              "      <td>10.5000</td>\n",
              "      <td>Southampton</td>\n",
              "      <td>NaN</td>\n",
              "      <td>52.0</td>\n",
              "      <td>0</td>\n",
              "      <td>Adulto</td>\n",
              "    </tr>\n",
              "    <tr>\n",
              "      <th>12</th>\n",
              "      <td>13</td>\n",
              "      <td>Alta</td>\n",
              "      <td>1</td>\n",
              "      <td>F</td>\n",
              "      <td>24</td>\n",
              "      <td>0</td>\n",
              "      <td>0</td>\n",
              "      <td>69.3000</td>\n",
              "      <td>Cherbourg</td>\n",
              "      <td>9</td>\n",
              "      <td>NaN</td>\n",
              "      <td>0</td>\n",
              "      <td>Adulto</td>\n",
              "    </tr>\n",
              "    <tr>\n",
              "      <th>1010</th>\n",
              "      <td>1011</td>\n",
              "      <td>Baixa</td>\n",
              "      <td>0</td>\n",
              "      <td>M</td>\n",
              "      <td>24</td>\n",
              "      <td>1</td>\n",
              "      <td>0</td>\n",
              "      <td>16.1000</td>\n",
              "      <td>Southampton</td>\n",
              "      <td>NaN</td>\n",
              "      <td>NaN</td>\n",
              "      <td>1</td>\n",
              "      <td>Adulto</td>\n",
              "    </tr>\n",
              "    <tr>\n",
              "      <th>1062</th>\n",
              "      <td>1063</td>\n",
              "      <td>Baixa</td>\n",
              "      <td>0</td>\n",
              "      <td>M</td>\n",
              "      <td>21</td>\n",
              "      <td>0</td>\n",
              "      <td>0</td>\n",
              "      <td>7.8542</td>\n",
              "      <td>Southampton</td>\n",
              "      <td>NaN</td>\n",
              "      <td>NaN</td>\n",
              "      <td>0</td>\n",
              "      <td>Adulto</td>\n",
              "    </tr>\n",
              "    <tr>\n",
              "      <th>509</th>\n",
              "      <td>510</td>\n",
              "      <td>Média</td>\n",
              "      <td>0</td>\n",
              "      <td>M</td>\n",
              "      <td>39</td>\n",
              "      <td>0</td>\n",
              "      <td>0</td>\n",
              "      <td>26.0000</td>\n",
              "      <td>Southampton</td>\n",
              "      <td>NaN</td>\n",
              "      <td>NaN</td>\n",
              "      <td>0</td>\n",
              "      <td>Adulto</td>\n",
              "    </tr>\n",
              "    <tr>\n",
              "      <th>396</th>\n",
              "      <td>397</td>\n",
              "      <td>Média</td>\n",
              "      <td>1</td>\n",
              "      <td>F</td>\n",
              "      <td>34</td>\n",
              "      <td>0</td>\n",
              "      <td>1</td>\n",
              "      <td>23.0000</td>\n",
              "      <td>Southampton</td>\n",
              "      <td>NaN</td>\n",
              "      <td>NaN</td>\n",
              "      <td>1</td>\n",
              "      <td>Adulto</td>\n",
              "    </tr>\n",
              "    <tr>\n",
              "      <th>577</th>\n",
              "      <td>578</td>\n",
              "      <td>Média</td>\n",
              "      <td>1</td>\n",
              "      <td>F</td>\n",
              "      <td>31</td>\n",
              "      <td>0</td>\n",
              "      <td>0</td>\n",
              "      <td>21.0000</td>\n",
              "      <td>Southampton</td>\n",
              "      <td>14</td>\n",
              "      <td>NaN</td>\n",
              "      <td>0</td>\n",
              "      <td>Adulto</td>\n",
              "    </tr>\n",
              "    <tr>\n",
              "      <th>695</th>\n",
              "      <td>696</td>\n",
              "      <td>Baixa</td>\n",
              "      <td>0</td>\n",
              "      <td>F</td>\n",
              "      <td>18</td>\n",
              "      <td>0</td>\n",
              "      <td>0</td>\n",
              "      <td>7.8792</td>\n",
              "      <td>Queenstown</td>\n",
              "      <td>NaN</td>\n",
              "      <td>NaN</td>\n",
              "      <td>0</td>\n",
              "      <td>Adulto</td>\n",
              "    </tr>\n",
              "    <tr>\n",
              "      <th>420</th>\n",
              "      <td>421</td>\n",
              "      <td>Média</td>\n",
              "      <td>0</td>\n",
              "      <td>M</td>\n",
              "      <td>21</td>\n",
              "      <td>1</td>\n",
              "      <td>0</td>\n",
              "      <td>11.5000</td>\n",
              "      <td>Southampton</td>\n",
              "      <td>NaN</td>\n",
              "      <td>NaN</td>\n",
              "      <td>1</td>\n",
              "      <td>Adulto</td>\n",
              "    </tr>\n",
              "  </tbody>\n",
              "</table>\n",
              "</div>"
            ],
            "text/plain": [
              "      id_passageiro classe  sobreviveu  ...  corpo  total_parentes  faixa_etaria\n",
              "1278           1279  Baixa           0  ...    NaN               0        Adulto\n",
              "881             882  Baixa           1  ...    NaN               0        Adulto\n",
              "788             789  Baixa           0  ...    NaN               0        Adulto\n",
              "745             746  Baixa           1  ...    NaN               0        Adulto\n",
              "1162           1163  Baixa           1  ...    NaN               0        Adulto\n",
              "486             487  Média           0  ...  108.0               0        Adulto\n",
              "1135           1136  Baixa           0  ...    NaN               0        Adulto\n",
              "1153           1154  Baixa           0  ...    7.0               1        Adulto\n",
              "258             259   Alta           1  ...    NaN               0        Adulto\n",
              "815             816  Baixa           0  ...    NaN               0        Adulto\n",
              "1275           1276  Baixa           0  ...    NaN               2    Adolecente\n",
              "490             491  Média           0  ...   52.0               0        Adulto\n",
              "12               13   Alta           1  ...    NaN               0        Adulto\n",
              "1010           1011  Baixa           0  ...    NaN               1        Adulto\n",
              "1062           1063  Baixa           0  ...    NaN               0        Adulto\n",
              "509             510  Média           0  ...    NaN               0        Adulto\n",
              "396             397  Média           1  ...    NaN               1        Adulto\n",
              "577             578  Média           1  ...    NaN               0        Adulto\n",
              "695             696  Baixa           0  ...    NaN               0        Adulto\n",
              "420             421  Média           0  ...    NaN               1        Adulto\n",
              "\n",
              "[20 rows x 13 columns]"
            ]
          },
          "metadata": {},
          "execution_count": 81
        }
      ]
    },
    {
      "cell_type": "markdown",
      "metadata": {
        "id": "fxU0O4gJhVin"
      },
      "source": [
        "# 3. Análise dos Dados"
      ]
    },
    {
      "cell_type": "markdown",
      "metadata": {
        "id": "wBbh2ygnhq17"
      },
      "source": [
        "## 3.1. Qual é o número de Sobreviventes?"
      ]
    },
    {
      "cell_type": "code",
      "metadata": {
        "id": "QTZ5BMzEhs57"
      },
      "source": [
        "sobrevivente = df_titanic['sobreviveu'].sum()\n",
        "total = len(df_titanic)\n",
        "porcentagem = int(sobrevivente*100/total)"
      ],
      "execution_count": null,
      "outputs": []
    },
    {
      "cell_type": "code",
      "metadata": {
        "colab": {
          "base_uri": "https://localhost:8080/",
          "height": 425
        },
        "id": "0VmXtfVmUfwp",
        "outputId": "695f5e06-29e7-4a3e-b512-c25a6245f2a6"
      },
      "source": [
        "plt.style.use(\"ggplot\")\n",
        "fig = plt.figure(figsize=(11,6))\n",
        "fig = df_titanic['sobreviveu'].value_counts().plot.barh()\n",
        "fig.set_title('Passageiros sobreviventes e mortos')\n",
        "fig.set_ylabel('Mortes / Sobreviventes')\n",
        "fig.set_xlabel('Número de Pessoas')\n",
        "print('Total de Sobreviventes {} ({}%) de {} pessoas'.format(sobrevivente,porcentagem, total))"
      ],
      "execution_count": null,
      "outputs": [
        {
          "output_type": "stream",
          "name": "stdout",
          "text": [
            "Total de Sobreviventes 498 (38%) de 1307 pessoas\n"
          ]
        },
        {
          "output_type": "display_data",
          "data": {
            "image/png": "[encoded data removed]",
            "text/plain": [
              "<Figure size 792x432 with 1 Axes>"
            ]
          },
          "metadata": {}
        }
      ]
    },
    {
      "cell_type": "markdown",
      "metadata": {
        "id": "9EBW3BPxl0Eo"
      },
      "source": [
        "## 3.2. Homens ou mulheres tiveram mais chances de sobreviver?"
      ]
    },
    {
      "cell_type": "code",
      "metadata": {
        "id": "556bRiv3iQRm"
      },
      "source": [
        "df_sobrevivente = df_titanic.loc[(df_titanic['sobreviveu'] == 1 )]\n",
        "df_sobrevivente = df_sobrevivente['sexo'].value_counts() \n",
        "sum = df_sobrevivente.sum()\n",
        "a = df_sobrevivente[0]*100/sum\n",
        "b = df_sobrevivente[1]*100/sum"
      ],
      "execution_count": null,
      "outputs": []
    },
    {
      "cell_type": "code",
      "metadata": {
        "colab": {
          "base_uri": "https://localhost:8080/"
        },
        "id": "ugyAy3IlnDsE",
        "outputId": "30796663-06a2-44ce-b509-65073e14f0e2"
      },
      "source": [
        "print('Total Sobreviventes: {} (100%)'.format(sum))\n",
        "print('Sobreviventes Femininos: {} ({}%)'.format(df_sobrevivente[0], round(a,2)))\n",
        "print('Sobreviventes Masculinos: {} ({}%)'.format(df_sobrevivente[1], round(b,2)))\n",
        "print('Conclusão que mulheres tiveram o dobro de chance de sobreviver')"
      ],
      "execution_count": null,
      "outputs": [
        {
          "output_type": "stream",
          "name": "stdout",
          "text": [
            "Total Sobreviventes: 498 (100%)\n",
            "Sobreviventes Femininos: 337 (67.67%)\n",
            "Sobreviventes Masculinos: 161 (32.33%)\n",
            "Conclusão que mulheres tiveram o dobro de chance de sobreviver\n"
          ]
        }
      ]
    },
    {
      "cell_type": "markdown",
      "metadata": {
        "id": "CclCDyh_smw0"
      },
      "source": [
        "## 3.3. Qual classe social teve mais sobreviventes?"
      ]
    },
    {
      "cell_type": "code",
      "metadata": {
        "id": "54HZzi8Psonf",
        "colab": {
          "base_uri": "https://localhost:8080/"
        },
        "outputId": "7072aa12-0481-4758-d150-f450c61b4d30"
      },
      "source": [
        "df_sobrevivente = df_titanic.loc[(df_titanic['sobreviveu'] == 1 )]\n",
        "df_sobrevivente = df_sobrevivente['classe'].value_counts() \n",
        "sum = df_sobrevivente.sum()\n",
        "a = df_sobrevivente[0]*100/sum\n",
        "b = df_sobrevivente[1]*100/sum\n",
        "c = df_sobrevivente[2]*100/sum\n",
        "df_sobrevivente"
      ],
      "execution_count": null,
      "outputs": [
        {
          "output_type": "execute_result",
          "data": {
            "text/plain": [
              "Alta     198\n",
              "Baixa    181\n",
              "Média    119\n",
              "Name: classe, dtype: int64"
            ]
          },
          "metadata": {},
          "execution_count": 86
        }
      ]
    },
    {
      "cell_type": "code",
      "metadata": {
        "colab": {
          "base_uri": "https://localhost:8080/"
        },
        "id": "wpva_n8J8uVs",
        "outputId": "06daca17-c968-4fa8-dd3d-d12153216cdd"
      },
      "source": [
        "print('Total Sobreviventes: {} (100%)'.format(sum))\n",
        "print('Sobreviventes classe Alta: {} ({}%)'.format(df_sobrevivente[0], round(a,2)))\n",
        "print('Sobreviventes classe Baixa: {} ({}%)'.format(df_sobrevivente[1], round(b,2)))\n",
        "print('Sobreviventes classe média: {} ({}%)'.format(df_sobrevivente[2], round(c,2)))"
      ],
      "execution_count": null,
      "outputs": [
        {
          "output_type": "stream",
          "name": "stdout",
          "text": [
            "Total Sobreviventes: 498 (100%)\n",
            "Sobreviventes classe Alta: 198 (39.76%)\n",
            "Sobreviventes classe Baixa: 181 (36.35%)\n",
            "Sobreviventes classe média: 119 (23.9%)\n"
          ]
        }
      ]
    },
    {
      "cell_type": "markdown",
      "metadata": {
        "id": "_MQ7lJNlssoB"
      },
      "source": [
        "## 3.4. Qual faixa etária teve mais chances de sobreviver?"
      ]
    },
    {
      "cell_type": "code",
      "metadata": {
        "colab": {
          "base_uri": "https://localhost:8080/"
        },
        "id": "g_NYJboB_RnF",
        "outputId": "22adae63-596a-4a3e-bab6-786487e3a8af"
      },
      "source": [
        "df_sobrevivente = df_titanic.loc[(df_titanic['sobreviveu'] == 1 )]\n",
        "print(len(df_sobrevivente))\n",
        "df_sobrevivente['faixa_etaria'].value_counts()"
      ],
      "execution_count": null,
      "outputs": [
        {
          "output_type": "stream",
          "name": "stdout",
          "text": [
            "498\n"
          ]
        },
        {
          "output_type": "execute_result",
          "data": {
            "text/plain": [
              "Adulto        406\n",
              "Criança        54\n",
              "Adolecente     27\n",
              "Idoso          11\n",
              "Name: faixa_etaria, dtype: int64"
            ]
          },
          "metadata": {},
          "execution_count": 92
        }
      ]
    }
  ]
}